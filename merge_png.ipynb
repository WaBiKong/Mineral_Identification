{
 "cells": [
  {
   "cell_type": "code",
   "execution_count": 11,
   "metadata": {},
   "outputs": [],
   "source": [
    "# 将分割图和原图合在一起\n",
    "from PIL import Image\n",
    " \n",
    "# image1 原图 \n",
    "# image2 分割图\n",
    "image1 = Image.open(\"2007_001288.jpg\")\n",
    "image2 = Image.open(\"2007_001288_infer.png\")\n",
    " \n",
    "image1 = image1.convert('RGBA')\n",
    "image2 = image2.convert('RGBA')\n",
    " \n",
    "# 两幅图像进行合并时，按公式：blended_img = img1 * (1 – alpha) + img2* alpha 进行\n",
    "image = Image.blend(image2, image1, 0.6)\n",
    "image.save(\"test.png\")"
   ]
  }
 ],
 "metadata": {
  "kernelspec": {
   "display_name": "torch2",
   "language": "python",
   "name": "python3"
  },
  "language_info": {
   "codemirror_mode": {
    "name": "ipython",
    "version": 3
   },
   "file_extension": ".py",
   "mimetype": "text/x-python",
   "name": "python",
   "nbconvert_exporter": "python",
   "pygments_lexer": "ipython3",
   "version": "3.10.11"
  },
  "orig_nbformat": 4
 },
 "nbformat": 4,
 "nbformat_minor": 2
}
