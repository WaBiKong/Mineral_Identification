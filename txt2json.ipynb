{
 "cells": [
  {
   "cell_type": "code",
   "execution_count": 1,
   "metadata": {},
   "outputs": [],
   "source": [
    "import json\n",
    "\n",
    "# labels.txt to labels.json\n",
    "with open('./labels.txt', 'r') as f:\n",
    "    lines = f.readlines()\n",
    "    \n",
    "labelsdict = {}\n",
    "\n",
    "for i, line in enumerate(lines):\n",
    "    # 将后面的中文去了，如 Agate (玛瑙)\\n -> Agate\n",
    "    lines[i] = line.split()[0]\n",
    "    labelsdict[str(i)] = lines[i]\n",
    "\n",
    "mineral_dict = labelsdict\n",
    "\n",
    "labelsdict = json.dumps(labelsdict, indent=4)\n",
    "with open('./labels.json', 'w') as f:\n",
    "    f.write(labelsdict)"
   ]
  },
  {
   "cell_type": "code",
   "execution_count": 2,
   "metadata": {},
   "outputs": [],
   "source": [
    "import os\n",
    "\n",
    "minerals_path = './data'\n",
    "\n",
    "# 获取data文件夹下所有文件夹名称列表\n",
    "dirlist = os.listdir(minerals_path)\n",
    "\n",
    "samples = []\n",
    "labelNum = [0] * 36\n",
    "\n",
    "for dir in dirlist:\n",
    "\n",
    "    # 获取一个文件夹的路径\n",
    "    dirpath = os.path.join(minerals_path, dir)\n",
    "\n",
    "    # 获取一个文件夹下所有图片的名字列表\n",
    "    img_names = os.listdir(dirpath)\n",
    "\n",
    "    # 对每张图片的名字进行处理\n",
    "    for img_name in img_names:\n",
    "        f_name = os.path.join(dirpath, img_name)  # 获取图片完整路径 \n",
    "        multi_labels = img_name.split('.')[0].split('_')[1:]  # 先去除.jpg, 再获取全部标签序号\n",
    "        categories = [mineral_dict[i] for i in multi_labels]  # 根据编号获取类别名称\n",
    "\n",
    "        for label in multi_labels:  # 统计每个标签出现的次数\n",
    "            labelNum[int(label)] += 1\n",
    "\n",
    "        # 构建一个样本\n",
    "        sample = {\n",
    "            'fname': f_name,\n",
    "            'labels': multi_labels,\n",
    "            'categories': categories\n",
    "        }\n",
    "        samples.append(sample)"
   ]
  },
  {
   "cell_type": "code",
   "execution_count": 3,
   "metadata": {},
   "outputs": [],
   "source": [
    "import random\n",
    "# 将数据集进行划分，划分比例为训练集: 验证集: 测试集 = 8 : 1 : 1\n",
    "\n",
    "random.shuffle(samples)\n",
    "\n",
    "n = len(samples)\n",
    "\n",
    "train_samples = samples[:int(n * 0.9)]\n",
    "valid_samples = samples[int(n * 0.9): int(n * 0.95)]\n",
    "test_samples = samples[int(n * 0.95):]\n",
    "\n",
    "def sampls_2_json(samples, path):\n",
    "    random.shuffle(samples)\n",
    "    samples = json.dumps(samples, indent=4)\n",
    "    with open(path, 'w') as f:\n",
    "        f.write(samples)\n",
    "\n",
    "dir = './annotations'\n",
    "if not os.path.exists(dir):\n",
    "    os.makedirs(dir)\n",
    "\n",
    "sampls_2_json(train_samples, './annotations/train.json')\n",
    "sampls_2_json(valid_samples, './annotations/valid.json')\n",
    "sampls_2_json(test_samples, './annotations/test.json')"
   ]
  },
  {
   "cell_type": "code",
   "execution_count": null,
   "metadata": {},
   "outputs": [],
   "source": [
    "root = \"./seg_data/\"\n"
   ]
  },
  {
   "cell_type": "code",
   "execution_count": null,
   "metadata": {},
   "outputs": [],
   "source": []
  }
 ],
 "metadata": {
  "kernelspec": {
   "display_name": "torch2",
   "language": "python",
   "name": "python3"
  },
  "language_info": {
   "codemirror_mode": {
    "name": "ipython",
    "version": 3
   },
   "file_extension": ".py",
   "mimetype": "text/x-python",
   "name": "python",
   "nbconvert_exporter": "python",
   "pygments_lexer": "ipython3",
   "version": "3.10.11"
  }
 },
 "nbformat": 4,
 "nbformat_minor": 2
}
